{
 "cells": [
  {
   "cell_type": "raw",
   "metadata": {},
   "source": [
    "Bienvenidos al curso de Python Básico APLICADO\n",
    "\n",
    "Objetivo: Tener un primer acercamiento al lenguaje y a sus librerías más populares para procesamiento de datos y brindar los conocimientos mínimos para el curso de procesamiento de datos ráster y vectoriales en Python.\n",
    "\n",
    "1. Introducción al entorno de JupyterLab\n",
    "2. Introducción al lenguaje: Tipos de datos, indexación y concatenación\n",
    "3. Bucles y condicionales: Ciclos For, Where e If/Else, listas de comprensión\n",
    "4. Funciones"
   ]
  },
  {
   "cell_type": "markdown",
   "metadata": {},
   "source": [
    "[Material Extra](https://drive.google.com/drive/folders/1Lqmn8VqlcyAxRfVeTnLJRXf0jiBuhUn7?usp=sharing)"
   ]
  },
  {
   "cell_type": "markdown",
   "metadata": {},
   "source": [
    "# Markdown"
   ]
  },
  {
   "cell_type": "markdown",
   "metadata": {},
   "source": [
    "El Markdown sirve para comentar y chulear nuestros scripts (notebooks)"
   ]
  },
  {
   "cell_type": "code",
   "execution_count": null,
   "metadata": {},
   "outputs": [],
   "source": []
  },
  {
   "cell_type": "markdown",
   "metadata": {},
   "source": [
    "### $\\star\\star\\star\\star\\star\\star\\star\\star\\star\\star\\star\\star\\star\\star\\star\\star\\star\\star\\star\\star\\star\\star\\star\\star\\star\\star\\star\\star$\n",
    "# PYTHON"
   ]
  },
  {
   "cell_type": "markdown",
   "metadata": {},
   "source": [
    "[Python](https://es.wikipedia.org/wiki/Python) es un lenguaje de programación interpretado cuya filosofía hace hincapié en la legibilidad de su código.\n",
    "Se trata de un lenguaje de programación __multiparadigma__, ya que soporta orientación a objetos, programación imperativa y, en menor medida, programación funcional. Es un lenguaje __interpretado__ (los intérpretes sólo realizan la traducción a medida que sea necesaria, típicamente, instrucción por instrucción, y normalmente no guardan el resultado de dicha traducción), __dinámico__ (un lenguaje de programación es dinámicamente tipado si una variable puede tomar valores de distinto tipo) y __multiplataforma__ (por ejemplo, una aplicación multiplataforma puede ejecutarse sin problema alguno, tanto en Microsoft Windows, como en Linux y Mac OS X).\n",
    "\n",
    "Python fue creado a finales de los ochenta por Guido van Rossum en el Centro para las Matemáticas y la Informática (CWI, Centrum Wiskunde & Informatica), en los Países Bajos."
   ]
  },
  {
   "cell_type": "markdown",
   "metadata": {},
   "source": [
    "## Python, el lenguaje más popular\n",
    "\n",
    "El índice [TIOBE (TIOBE, The Importance of Being Earnest)](https://www.tiobe.com/tiobe-index/) es un informe mensual que elabora y publica la empresa TIOBE Software BV. \n",
    "\n",
    "TIOBE Software BV es una empresa afincada en Eindhoven (Holanda) que se ha encargado de desarrollar y mejorar desde el año 2001 un algoritmo basado en la ejecución de infinidad de queries en los mayores motores de búsqueda del mundo (Google, MSN, Yahoo!, Baidu, Wikipedia o YouTube, entre otros). Con los resultados obtenidos, su algoritmo es capaz de cuantificar el uso en el mundo de los distintos lenguajes de programación. Es necesario resaltar que, en ningún caso, esta clasificación se basa en la calidad de uso de unos u otros lenguajes, simplemente cuantifica su uso y los clasifica de más a menos utilizados.\n",
    "\n",
    "\"TIOBE will announce the programming language of the year next month. There are 4 candidates for this title: Java (+1.3%), C (+1.8%), Python (+1.9%) and C# (+1.4%). These 4 languages are all in the top 5. Only C++ lost some ranking points in 2019. __Python is top favorite for the title. It was already programming language of the year 2018, but its popularity keeps growing.__ This is mainly due to the lack of programmers in the world and the ease of learning this language if compared to other languages. [...] \n",
    "\n",
    "The TIOBE Programming Community index is an indicator of the popularity of programming languages. The index is updated once a month. The ratings are based on the number of skilled engineers world-wide, courses and third party vendors. Popular search engines such as Google, Bing, Yahoo!, Wikipedia, Amazon, YouTube and Baidu are used to calculate the ratings. It is important to note that the TIOBE index is not about the best programming language or the language in which most lines of code have been written.\"\n",
    "\n",
    "<img src=\"tab2.png\" style=\"width: 600px;\"/>"
   ]
  },
  {
   "cell_type": "markdown",
   "metadata": {},
   "source": [
    "# Ahora sí, a programar!"
   ]
  },
  {
   "cell_type": "markdown",
   "metadata": {},
   "source": [
    "## Librerías\n",
    "\n",
    "### Tridente la muerte:\n",
    "* [Pandas](https://pandas.pydata.org): Is an open source, BSD-licensed library providing high-performance, easy-to-use data structures and data analysis tools for the Python programming language.\n",
    "\n",
    "* [Numpy](https://numpy.org): NumPy is the fundamental package for scientific computing with Python. It contains among other things: a powerful N-dimensional array object, sophisticated (broadcasting) functions, tools for integrating C/C++ and Fortran code, useful linear algebra, Fourier transform, and random number capabilities. Besides its obvious scientific uses, NumPy can also be used as an efficient multi-dimensional container of generic data. Arbitrary data-types can be defined. This allows NumPy to seamlessly and speedily integrate with a wide variety of databases.\n",
    "\n",
    "* [Matplotlib](https://matplotlib.org):  Is a plotting library which produces publication quality figures in a variety of hardcopy formats and interactive environments across platforms. Matplotlib tries to make easy things easy and hard things possible. You can generate plots, histograms, power spectra, bar charts, errorcharts, scatterplots, etc., with just a few lines of code. For simple plotting the pyplot module provides a MATLAB-like interface, particularly when combined with IPython. For the power user, you have full control of line styles, font properties, axes properties, etc, via an object oriented interface or via a set of functions familiar to MATLAB users.\n",
    "\n",
    "### Otros Módulos:\n",
    "\n",
    "* [Math](https://docs.python.org/3/library/math.html): This module provides access to the mathematical functions defined by the C standard. These functions cannot be used with complex numbers; use the functions of the same name from the cmath module if you require support for complex numbers.\n",
    "\n",
    "* [Numba](http://numba.pydata.org): Numba translates Python functions to optimized machine code at runtime using the industry-standard [LLVM](https://es.wikipedia.org/wiki/LLVM) compiler library. Numba-compiled numerical algorithms in Python can approach the speeds of C or FORTRAN.\n",
    "\n",
    "* [Os](https://docs.python.org/3/library/os.html): This module provides a portable way of using operating system dependent functionality.\n",
    "\n",
    "* [Glob](https://docs.python.org/2/library/glob.html): The glob module finds all the pathnames matching a specified pattern according to the rules used by the Unix shell, although results are returned in arbitrary order.\n",
    "\n",
    "* [Datetime](https://docs.python.org/3/library/datetime.html): The datetime module supplies classes for manipulating dates and times.\n",
    "\n",
    "* [Virtualenv](https://virtualenv.pypa.io/en/latest/): is a tool to create isolated Python environments.\n",
    "\n",
    "* [GeoPy](https://geopy.readthedocs.io/en/stable/#): GeoPy makes it easy for Python developers to locate the coordinates of addresses, cities, countries, and landmarks across the globe using third-party geocoders and other data sources\n",
    "\n",
    "* [Scikit-learn](https://scikit-learn.org/stable/): Is a free software machine learning module. It features various classification, regression and clustering algorithms including support vector machines, random forests, gradient boosting, k-means and DBSCAN, and is designed to interoperate with the Python numerical and scientific libraries NumPy, SciPy and Matplotlib.\n",
    "\n",
    "* [GetPass](https://www.geeksforgeeks.org/getpass-and-getuser-in-python-password-without-echo/): getpass() prompts the user for a password without echoing. The getpass module provides a secure way to handle the password prompts where programs interact with the users via the terminal.\n",
    "\n",
    "* [smtplib](https://docs.python.org/3/library/smtplib.html): The smtplib module defines an SMTP client session object that can be used to send mail to any Internet machine with an SMTP or ESMTP listener daemon.\n",
    "\n",
    "* [imblearn](https://imbalanced-learn.readthedocs.io/en/stable/api.html#): Imbalanced-learn is a python package offering a number of re-sampling techniques commonly used in datasets showing strong between-class imbalance. It is compatible with scikit-learn and is part of scikit-learn-contrib projects.\n",
    "\n",
    "* [GeoPandas](http://geopandas.org): The goal of GeoPandas is to make working with geospatial data in python easier. It combines the capabilities of pandas and shapely, providing geospatial operations in pandas and a high-level interface to multiple geometries to shapely. GeoPandas enables you to easily do operations in python that would otherwise require a spatial database such as PostGIS.\n",
    "\n",
    "* [CartoPy](https://scitools.org.uk/cartopy/docs/latest/): Cartopy is a Python package designed for geospatial data processing in order to produce maps and other geospatial data analyses.\n",
    "\n",
    "* [Random](https://docs.python.org/3/library/random.html): This module implements pseudo-random number generators for various distributions.\n",
    "\n",
    "* [Seaborn](https://seaborn.pydata.org): Seaborn is a Python data visualization library based on matplotlib. It provides a high-level interface for drawing attractive and informative statistical graphics.\n",
    "\n",
    "* [ipywidgets](https://ipywidgets.readthedocs.io/en/latest/):Interactive HTML widgets for Jupyter notebooks and the IPython kernel. Widgets are eventful python objects that have a representation in the browser, often as a control like a slider, textbox, etc.\n",
    "\n",
    "* [ffmpeg](https://www.ffmpeg.org/about.html): FFmpeg is the leading multimedia framework, able to decode, encode, transcode, mux, demux, stream, filter and play pretty much anything that humans and machines have created. \n",
    "\n",
    "* [warnings](https://docs.python.org/3/library/warnings.html): Warning messages are typically issued in situations where it is useful to alert the user of some condition in a program, where that condition (normally) doesn’t warrant raising an exception and terminating the program. For example, one might want to issue a warning when a program uses an obsolete module.\n",
    "\n",
    "* [mpl_toolkits](https://matplotlib.org/mpl_toolkits/index.html):Toolkits are collections of application-specific functions that extend Matplotlib.\n",
    "\n",
    "* [Gmaps](https://jupyter-gmaps.readthedocs.io/en/latest/tutorial.html): gmaps is a plugin for Jupyter for embedding Google Maps in your notebooks. It is designed as a data visualization tool.\n",
    "\n",
    "* [OpenCV](https://docs.opencv.org/master/d1/dfb/intro.html): OpenCV (Open Source Computer Vision Library) is an open-source BSD-licensed library that includes several hundreds of computer vision algorithms."
   ]
  },
  {
   "cell_type": "markdown",
   "metadata": {},
   "source": [
    "### Estructuras de datos:\n",
    "<img src=\"tab1.png\" style=\"width: 900px;\"/>"
   ]
  },
  {
   "cell_type": "code",
   "execution_count": null,
   "metadata": {},
   "outputs": [],
   "source": []
  },
  {
   "cell_type": "markdown",
   "metadata": {},
   "source": [
    "## Indexar, operar y concatenar"
   ]
  },
  {
   "cell_type": "markdown",
   "metadata": {},
   "source": [
    "### [Operadores](https://entrenamiento-python-basico.readthedocs.io/es/latest/apendices/operadores.html)"
   ]
  },
  {
   "cell_type": "markdown",
   "metadata": {},
   "source": [
    "* De asignación:\n",
    "\n",
    "<img src=\"tab3.png\" style=\"width: 400px;\"/>\n",
    "\n",
    "* Aritméticos \n",
    "\n",
    "<img src=\"tab4.png\" style=\"width: 400px;\"/>\n",
    "\n",
    "* Relacionales \n",
    "\n",
    "<img src=\"tab5.png\" style=\"width: 400px;\"/>\n",
    "\n",
    "* Lógicos\n",
    "\n",
    "<img src=\"tab6.png\" style=\"width: 400px;\"/>"
   ]
  },
  {
   "cell_type": "markdown",
   "metadata": {},
   "source": [
    "## Indexación"
   ]
  },
  {
   "cell_type": "raw",
   "metadata": {},
   "source": [
    " +---+---+---+---+---+---+\n",
    " | P | y | t | h | o | n |\n",
    " +---+---+---+---+---+---+\n",
    "   0   1   2   3   4   5  \n",
    "  -6  -5  -4  -3  -2  -1"
   ]
  },
  {
   "cell_type": "markdown",
   "metadata": {},
   "source": [
    "## Slice"
   ]
  },
  {
   "cell_type": "markdown",
   "metadata": {},
   "source": [
    "# Algunos métodos "
   ]
  },
  {
   "cell_type": "code",
   "execution_count": null,
   "metadata": {},
   "outputs": [],
   "source": []
  },
  {
   "cell_type": "markdown",
   "metadata": {},
   "source": [
    "¿Qué diferencia hay entre append y extend?"
   ]
  },
  {
   "cell_type": "code",
   "execution_count": null,
   "metadata": {},
   "outputs": [],
   "source": []
  },
  {
   "cell_type": "markdown",
   "metadata": {},
   "source": [
    "¿Extend o sumar listas?"
   ]
  },
  {
   "cell_type": "code",
   "execution_count": null,
   "metadata": {},
   "outputs": [],
   "source": []
  },
  {
   "cell_type": "markdown",
   "metadata": {},
   "source": [
    "### Para cadenas "
   ]
  },
  {
   "cell_type": "code",
   "execution_count": null,
   "metadata": {},
   "outputs": [],
   "source": []
  },
  {
   "cell_type": "markdown",
   "metadata": {},
   "source": [
    "### Mutabilidad o inmutabilidad"
   ]
  },
  {
   "cell_type": "code",
   "execution_count": null,
   "metadata": {},
   "outputs": [],
   "source": []
  },
  {
   "cell_type": "markdown",
   "metadata": {},
   "source": [
    "# Ejercicios"
   ]
  },
  {
   "cell_type": "markdown",
   "metadata": {},
   "source": [
    "1.- Imagina que estas en una fiesta y a alguien propone que cada vez que Cristian Castro diga ['Azul'](https://www.youtube.com/watch?v=29NM6ySmwfQ) todos le darán un shot a su bebida.\n",
    "\n",
    "a) ¿Cuantas veces se dice la palabra 'azul'? ¿jugarías?\n",
    "\n",
    "b) Cambia 'azul' por tu color favorito (distinto de azul)"
   ]
  },
  {
   "cell_type": "code",
   "execution_count": null,
   "metadata": {},
   "outputs": [],
   "source": [
    "azul=\"\"\"Fue una mañana que yo te encontré\n",
    "Cuando la brisa besaba tu dulce piel\n",
    "Tus ojos tristes que al ver adore\n",
    "La noche que yo te ame, eh\n",
    "\n",
    "Azul, cuando el silencio por fin te bese\n",
    "Azul, sentí muy dentro nacer este amor\n",
    "Azul, hoy miro al cielo y en ti puedo ver\n",
    "La estrella que siempre soñé\n",
    "\n",
    "Azul, y es que este amor es azul como el mar\n",
    "Azul, como de tu mirada nació mi ilusión\n",
    "Azul como una lagrima cuando hay perdón\n",
    "Tan puro y tan azul que embriagó el corazón\n",
    "\n",
    "Es que este amor es azul como el mar\n",
    "Azul, como el azul del cielo nació entre los dos\n",
    "Azul, como el lucero de nuestra pasión\n",
    "Un manantial azul\n",
    "Que me llena de amor\n",
    "\n",
    "Como el milagro que tanto espere\n",
    "Eres la niña que siempre busque\n",
    "Azul, es tu inocencia que quiero entender\n",
    "Tu príncipe azul yo seré\n",
    "\n",
    "Azul, es mi locura si estoy junto a ti\n",
    "Azul, rayo de luna serás para mi\n",
    "Azul, con la lluvia pintada de azul\n",
    "Por siempre serás solo tu\n",
    "\n",
    "Azul, y es que este amor es azul como el mar\n",
    "Azul, como de tu mirada nació mi ilusión\n",
    "Azul como una lagrima cuando hay perdón\n",
    "Tan puro y tan azul que embriagó el corazón\n",
    "\n",
    "Es que este amor es azul como el mar\n",
    "Azul, como el azul del cielo nació entre los dos\n",
    "Azul, como el lucero de nuestra pasión\n",
    "Un manantial azul\n",
    "Que me llena de amor\n",
    "\n",
    "Azul, y es que este amor es azul como el mar\n",
    "Azul, como de tu mirada nació mi ilusión\n",
    "Azul como una lagrima cuando hay perdón\n",
    "Tan puro y tan azul que embriagó el corazón\n",
    "\n",
    "Es que este amor es azul como el mar\n",
    "Azul, como el azul del cielo nació entre los dos\n",
    "Azul, como el lucero de nuestra pasión\n",
    "Un manantial azul\n",
    "Que me llena de amor\n",
    "\n",
    "Es que este amor es azul como el mar\n",
    "Azul, como de tu mirada nació mi ilusión\n",
    "Azul como una lagrima cuando hay perdón\n",
    "Un manantial azul\n",
    "Que me llena de amor\"\"\"\n",
    "\n",
    "azul"
   ]
  },
  {
   "cell_type": "code",
   "execution_count": null,
   "metadata": {},
   "outputs": [],
   "source": [
    "#Solución a)\n"
   ]
  },
  {
   "cell_type": "code",
   "execution_count": null,
   "metadata": {},
   "outputs": [],
   "source": [
    "#Solución b)\n"
   ]
  },
  {
   "cell_type": "markdown",
   "metadata": {},
   "source": [
    "2.-Como cuota de recuperación, los instructores te han pedido que organices en un diccionario a algunos de los asistentes al curso de Python Básico.\n",
    "\n",
    "El diccionario debe tener como llaves: Nombre completo empezando por apellido, Carrera, Correo, Fecha y Hora de registro\n",
    "\n",
    "Los datos son:\n",
    "\n",
    "* 2019/11/29 11:16:19 a.m. GMT-6 carla_delarosa15@ciencias.unam.mx Carla Guadalupe De la Rosa Peredo Ciencias de la Tierra\n",
    "* 2019/11/30 6:08:52 p.m. GMT-6\tspaco964@gmail.com Sánchez Figueroa Eduardo Francisco Informática\n",
    "* 2019/11/30 6:10:11 p.m. GMT-6\tgabrielonch1119@gmail.com Gabriel Antonio Franco Almontes\tIngenieria Geofísica\n",
    "* 2019/11/30 6:11:50 p.m. GMT-6\tmaryjoavila18@gmail.com María José Avila Arredondo Ingeniería de Minas y Metalurgia\n",
    "* 2019/11/30 6:11:50 p.m. GMT-6\tnancy.sud.89@gmail.com Nancy Paola Patiño Hernández Ingeniería Geológica\n",
    "* 2019/11/30 6:15:59 p.m. GMT-6\toswasrjwcfree@gmail.com\tOsvaldo Solano Román ING. Geomática"
   ]
  },
  {
   "cell_type": "code",
   "execution_count": 352,
   "metadata": {},
   "outputs": [],
   "source": [
    "## Solución\n"
   ]
  },
  {
   "cell_type": "markdown",
   "metadata": {},
   "source": [
    "¿De qué me sirve tener un tonto diccionario?"
   ]
  },
  {
   "cell_type": "code",
   "execution_count": null,
   "metadata": {},
   "outputs": [],
   "source": []
  },
  {
   "cell_type": "markdown",
   "metadata": {},
   "source": [
    "Vamos a subirle el nivel dos rayitas...\n",
    "\n",
    "# Estructuras de control (Tema 3)"
   ]
  },
  {
   "cell_type": "markdown",
   "metadata": {},
   "source": [
    "* ### Ciclos For\n",
    "\n",
    "    Recorren un objeto iterable, como una lista, una tupla o un generador, y por cada elemento del iterable ejecuta el bloque de código interno. Se define con la palabra clave *for* seguida de un nombre de variable, seguido de *in*, seguido del iterable, y finalmente el bloque de código interno. En cada iteración, el elemento siguiente del iterable se asigna al nombre de variable especificado"
   ]
  },
  {
   "cell_type": "code",
   "execution_count": null,
   "metadata": {},
   "outputs": [],
   "source": []
  },
  {
   "cell_type": "markdown",
   "metadata": {},
   "source": [
    "Función __zip()__ toma como argumento dos o más objetos iterables (idealmente cada uno de ellos con la misma cantidad de elementos) y retorna un nuevo iterable cuyos elementos son tuplas que contienen un elemento de cada uno de los iteradores originales."
   ]
  },
  {
   "cell_type": "code",
   "execution_count": null,
   "metadata": {},
   "outputs": [],
   "source": []
  },
  {
   "cell_type": "markdown",
   "metadata": {},
   "source": [
    "* ## Ciclos While\n",
    "    El bucle while evalúa una condición y, si es verdadera, ejecuta el bloque de código interno. Continúa evaluando y ejecutando mientras la condición sea verdadera. Se define con la palabra clave while seguida de la condición, y a continuación el bloque de código interno"
   ]
  },
  {
   "cell_type": "code",
   "execution_count": null,
   "metadata": {},
   "outputs": [],
   "source": []
  },
  {
   "cell_type": "markdown",
   "metadata": {},
   "source": [
    "* ## Condicionales"
   ]
  },
  {
   "cell_type": "code",
   "execution_count": null,
   "metadata": {},
   "outputs": [],
   "source": []
  },
  {
   "cell_type": "markdown",
   "metadata": {},
   "source": [
    "* ## Listas de comprension\n",
    "    Una lista por comprensión (en inglés: list comprehension) es una expresión compacta para definir listas. "
   ]
  },
  {
   "cell_type": "markdown",
   "metadata": {},
   "source": [
    "Supongamos que queremos crear un vector con el cuadrado de los elementos en g, se me ocurren tres formas de hacerlo:"
   ]
  },
  {
   "cell_type": "code",
   "execution_count": null,
   "metadata": {},
   "outputs": [],
   "source": []
  },
  {
   "cell_type": "markdown",
   "metadata": {},
   "source": [
    "¿Por qué usar listas de comprension? Vámonos al extremo"
   ]
  },
  {
   "cell_type": "code",
   "execution_count": null,
   "metadata": {},
   "outputs": [],
   "source": []
  },
  {
   "cell_type": "markdown",
   "metadata": {},
   "source": [
    "# Ejercicios"
   ]
  },
  {
   "cell_type": "markdown",
   "metadata": {},
   "source": [
    "1.- Verifique que el área debajo de la función de distribución normal, tiende a 1 \n",
    "\n",
    "<center>$\\frac{1}{\\sigma\\sqrt{2\\pi}}\\int\\limits_{-\\infty}^{\\infty}e^{-\\frac{(x-\\mu)^2}{2\\sigma^2}}=1$<center>\n",
    "\n",
    "Considere $N\\sim (0,1)$\n",
    "    \n",
    "Recordando el método del trapecio:\n",
    "<center>$\\int\\limits_{x_0}^{x_n}f(x)\\approx\\frac{h}{2}\\left[f(x_0)+2\\sum_{i=1}^{n-1} f(x_i)+f(x_n)\\right]$<center> \n",
    "    \n",
    "Donde:   $h=\\frac{x_n-x_0}{n}$\n",
    "    "
   ]
  },
  {
   "cell_type": "code",
   "execution_count": 64,
   "metadata": {},
   "outputs": [],
   "source": [
    "#Solución\n"
   ]
  },
  {
   "cell_type": "markdown",
   "metadata": {},
   "source": [
    "2.- Cuenta cuantas vocales hay en el siguiente rolón ¿Cuantas hay de cada una?"
   ]
  },
  {
   "cell_type": "code",
   "execution_count": 266,
   "metadata": {},
   "outputs": [],
   "source": [
    "reb=\"\"\"Mamarre, mamarre, mamarre, mamarre\n",
    "Como lo mueve esa muchachota\n",
    "Metiéndole al dembow es que se bota\n",
    "Y yo postia'o aquí con esta nota\n",
    "La miro y rebota, rebota, rebota, rebota\n",
    "Como lo mueve esa muchachita\n",
    "Le mete al dembow y no se quita\n",
    "Yo tengo el ritmo que la debilita\n",
    "Ella tiene nalga y tetita, nalga y tetita\n",
    "Uh, ya tienes 18, entonces 'tás en ley\n",
    "Quiero acampar en tu' montaña' de Cayey\n",
    "Que libraste a los 16 (wow), OK\n",
    "Andamo' en el dembow con el fucking Charlee Way, ey\n",
    "Es que tú ere' una maldita desgraciá'\n",
    "Como dice Celica Cruz con la bemba colora'\n",
    "Me tienes sudando frío, no quiero mirar más na'\n",
    "Y se le marca el camel toe a la condena'\n",
    "Hija 'el Diablo, Dios te reprenda\n",
    "Te vo'a decir algo y yo quiero que me lo entiendas\n",
    "Yo te vo'a hablar claro, mami, no es pa' que te ofendas\n",
    "Pero por ti, que me jodan asume y Hacienda\n",
    "Y es que, no sé, chica, y yo acá pensando\n",
    "¿Por qué no mejor ya de vez en cuando? (Claro)\n",
    "Empezamos tú y yo a estar procreando\n",
    "Porque aquí me tienes mirando, mirando y mirando\n",
    "Cómo lo mueve esa muchachota\n",
    "Metiéndole al dembow es que se bota\n",
    "Y yo postia'o aquí con esta nota\n",
    "La miro y rebota, rebota, rebota, rebota\n",
    "Como lo mueve esa muchachita\n",
    "Le mete al dembow y no se quita\n",
    "Yo tengo el ritmo que la debilita\n",
    "Ella tiene nalga y tetita, nalga y tetita\n",
    "Tú jugabas voleibol o tú eras atleta\n",
    "Porque tienes la góndola 'e muslos y la de chuleta\n",
    "De la cintura al tobillo, ya me tienes el martillo\n",
    "Saliéndose a ver que es lo qué es lo que pasa por el calzoncillo\n",
    "Bájale, mami, como 7, 500\n",
    "Me tienes en estado de aborrecimiento\n",
    "Si tú me das un break, yo te voy a hacer un cuento\n",
    "Quieres conocer a Junito, yo te lo presento (Ma')\n",
    "Marrayo parta que presión\n",
    "Cómo se le marca el pantalón\n",
    "De la camisa, le explota el botón\n",
    "Y por ti, yo voy con los suegros a Guavate a comer lechón\n",
    "Hija 'el Diablo, Dios te reprenda\n",
    "Te vo'a decir algo y yo quiero que me lo entiendas\n",
    "Yo te vo'a hablar claro, mami, no es pa' que te ofendas\n",
    "Pero por ti, que me jodan asume y Hacienda\n",
    "Cómo lo mueve esa muchachota (Prr)\n",
    "Metiéndole al dembow es que se bota\n",
    "Y yo postia'o aquí con esta nota\n",
    "La miro y rebota, rebota, rebota, rebota\n",
    "Cómo lo mueve esa muchachita (¿Qué?)\n",
    "Le mete al dembow y no se quita\n",
    "Yo tengo el ritmo que la debilita (El Diablo)\n",
    "Ella tiene nalga y tetita, nalga y tetita\n",
    "Como lo mueve esa muchachota (Oh yeah)\n",
    "Metiéndole al dembow es que se bota (Unbelievable)\n",
    "Y yo postia'o aquí con esta nota\n",
    "La miro y rebota, rebota, rebota, rebotan\n",
    "Cómo lo mueve esa muchachita (Ay qué bonita)\n",
    "Le mete al dembow y no se quita (La muchachita)\n",
    "Yo tengo el ritmo que la debilita\n",
    "Ella tiene nalga y tetita, nalga y tetita (Ella tiene, ella tiene chichi)\n",
    "Esto quedó fino, Kino (El Guaynabichy)\n",
    "Dante La Movie\n",
    "Charlee Way\n",
    "El Guayna-uayna-uayna-uayna-uayna-uaynabichy\n",
    "El Guaynaa\n",
    "El slogan que no puede fallar\n",
    "Pa' que vayan pa' la discoteca a menear el menor\n",
    "El shorty, shorty, shorty\n",
    "El shorty, shorty, shorty\n",
    "Mamarre, mamarre, mamarre, mamarre\"\"\""
   ]
  },
  {
   "cell_type": "code",
   "execution_count": null,
   "metadata": {},
   "outputs": [],
   "source": [
    "#Solución\n"
   ]
  },
  {
   "cell_type": "markdown",
   "metadata": {},
   "source": [
    "3.- Un canal trapecial excavado en tierra tiene un tirante $y=1.4m$, un talud $z=2$, una pendiente $S=0.0004$ y debe inducir un gasto de $8\\frac{m^3}{s}$.  Calcular el ancho de plantilla, b. Para este material el cofeciente de rugosidad es $n=0.020$ . Presente su resultado en un diccionario con b y %error como llaves.\n",
    "\n",
    "<center><img src=\"trap.png\" style=\"width: 300px;\"/><center/>\n",
    "\n",
    "\n",
    "En hidráulica canales se define a la ecuación del gasto de Manning como sigue:\n",
    "\n",
    "\\begin{equation}\n",
    "Q=\\frac{1}{n}AR^{\\frac{2}{3}}_HS^{\\frac{1}{2}}...................(1)\n",
    "\\end{equation}\n",
    "    \n",
    "Donde: \n",
    "    \n",
    "<center>$R_H\\rightarrow$ Radio hidráulico<center/>\n",
    "    \n",
    "<center>$A\\rightarrow$ Área de la sección transversal<center/>\n",
    "\n",
    "En secciones trapeciales se tiene:\n",
    "    \n",
    "<center>$A=\\left(by+zy^2\\right)$<center/>\n",
    "    \n",
    "<center>$R_H=\\left(\\frac{by+zy^2}{b+2y\\sqrt{1+z^2}}\\right)^{\\frac{2}{3}}$<center/>\n",
    " \n",
    "Reescribiendo a la ecuación 1...\n",
    "\\begin{equation}\n",
    "\\frac{Qn}{S^{\\frac{1}{2}}}=AR_H^{\\frac{2}{3}}=\\left(by+zy^2\\right)\\left(\\frac{by+zy^2}{b+2y\\sqrt{1+z^2}}\\right)^{\\frac{2}{3}}\n",
    "\\end{equation}\n",
    "\n",
    "Dada la dificultad de despejar a $b$, lo mejor es emplear el método númerico de aproximaciones sucesivas. Por lo tanto, basta con despejar a alguna $b:$\n",
    "\n",
    "\\begin{equation}\n",
    "b=\\frac{Qn}{S^{\\frac{1}{2}}y\\left(\\frac{yb+zy}{b+2y\\sqrt{1+z^2}}\\right)^{\\frac{2}{3}}}-2y\n",
    "\\end{equation}\n",
    "\n",
    "Sabiendo que:\n",
    "* $y=1.4m$\n",
    "* $z=2$\n",
    "* $S=0.0004$\n",
    "* $Q=8\\frac{m^3}{s}$\n",
    "* $n=0.020$\n",
    "\n",
    "\\begin{equation}\n",
    "\\Longrightarrow b=\\frac{8}{1.4\\left(\\frac{1.4b+3.92}{b+6.261}\\right)^{\\frac{2}{3}}}-2.8\n",
    "\\end{equation}\n",
    "\n"
   ]
  },
  {
   "cell_type": "code",
   "execution_count": 2,
   "metadata": {},
   "outputs": [],
   "source": [
    "#Solución\n"
   ]
  },
  {
   "cell_type": "markdown",
   "metadata": {},
   "source": [
    "## Funciones\n",
    "Las funciones se definen con la palabra clave *def*, seguida del nombre de la función y sus __parámetros__. Otra forma de escribir funciones, aunque menos utilizada, es con la palabra clave *lambda*. El valor devuelto en las funciones con *def* será el dado con la instrucción __return__."
   ]
  },
  {
   "cell_type": "code",
   "execution_count": 3,
   "metadata": {},
   "outputs": [],
   "source": [
    "#Tradicional\n"
   ]
  },
  {
   "cell_type": "code",
   "execution_count": 4,
   "metadata": {},
   "outputs": [],
   "source": [
    "#Lambda\n"
   ]
  },
  {
   "cell_type": "markdown",
   "metadata": {},
   "source": [
    "Supongamos que queremos conocer la imagen de $[-1000,1000]$ de la función $f$, previamente definida. ¿Cómo le hacemos?"
   ]
  },
  {
   "cell_type": "markdown",
   "metadata": {},
   "source": [
    "### $map()$\n",
    "Regresa una lista con los resultados de aplicar una función dada a cada elemento de un iterador dado"
   ]
  },
  {
   "cell_type": "markdown",
   "metadata": {},
   "source": [
    "## [Numba](https://towardsdatascience.com/speed-up-your-algorithms-part-2-numba-293e554c5cc1)"
   ]
  },
  {
   "cell_type": "code",
   "execution_count": null,
   "metadata": {},
   "outputs": [],
   "source": []
  },
  {
   "cell_type": "markdown",
   "metadata": {},
   "source": [
    "## Ejericios"
   ]
  },
  {
   "cell_type": "markdown",
   "metadata": {},
   "source": [
    "1.- Hacer una calculadora que cálcule el producto punto, la norma y el ángulo entre dos vectores de n dimensiones"
   ]
  },
  {
   "cell_type": "code",
   "execution_count": null,
   "metadata": {},
   "outputs": [],
   "source": [
    "#Solución\n"
   ]
  },
  {
   "cell_type": "markdown",
   "metadata": {},
   "source": [
    "### Breviario cultural:\n",
    "\n",
    "Supongamos que queremos tomar una muestra aleatoria de un conjunto de datos definido, j\n",
    "\n",
    "$j=['r','m','k','l','a','b','m','s']$\n",
    "\n",
    "Podemos utilizar: \n",
    "* random.choice(seq):\n",
    "    Return a random element from the non-empty sequence seq. If seq is empty, raises IndexError.\n",
    "\n",
    "* random.choices(population, weights=None, *, cum_weights=None, k=1)\n",
    "    Return a k sized list of elements chosen from the population with replacement. If the population is empty, raises IndexError.\n",
    "\n",
    "* random.sample(population, k)\n",
    "    Return a k length list of unique elements chosen from the population sequence or set. Used for random sampling without replacement."
   ]
  },
  {
   "cell_type": "code",
   "execution_count": 89,
   "metadata": {},
   "outputs": [
    {
     "name": "stdout",
     "output_type": "stream",
     "text": [
      "m\n",
      "['l', 'm', 'b', 'm']\n",
      "['b', 'k', 'm', 'l', 'm']\n"
     ]
    }
   ],
   "source": [
    "import random\n",
    "\n",
    "j=['r','m','k','l','a','b','m','s']\n",
    "print(random.choice(j))\n",
    "print(random.choices(j,k=4))\n",
    "print(random.sample(j,k=5))"
   ]
  },
  {
   "cell_type": "markdown",
   "metadata": {},
   "source": [
    "### Fin del breviario cultural, continuemos..."
   ]
  },
  {
   "cell_type": "markdown",
   "metadata": {},
   "source": [
    "2.- Crear una función que genere matrices $n$x$m$ con elementos aleatorios"
   ]
  },
  {
   "cell_type": "code",
   "execution_count": 5,
   "metadata": {},
   "outputs": [],
   "source": [
    "# Solución\n"
   ]
  },
  {
   "cell_type": "markdown",
   "metadata": {},
   "source": [
    "3.- Crear una función que calcule el producto de dos matrices de $n$x$m$\n",
    "\n",
    "<img src=\"mat.jpg\" style=\"width: 300px;\"/>"
   ]
  },
  {
   "cell_type": "code",
   "execution_count": 6,
   "metadata": {},
   "outputs": [],
   "source": [
    "# Solución\n"
   ]
  },
  {
   "cell_type": "markdown",
   "metadata": {},
   "source": [
    "### Aquí termina la primer parte del curso!!\n",
    "\n",
    "Para este punto ya deberiamos ser expertos en indexar, operar, hacer bucles y funciones. En la siguiente parte del curso ocuparemos todo lo que hemos aprendido para resolver muchos problemas utilizando numpy, pandas, matplotlib, entre otras...\n",
    "\n",
    "<img src=\"bel.jpg\" style=\"width: 400px;\"/>"
   ]
  }
 ],
 "metadata": {
  "kernelspec": {
   "display_name": "Python 3",
   "language": "python",
   "name": "python3"
  },
  "language_info": {
   "codemirror_mode": {
    "name": "ipython",
    "version": 3
   },
   "file_extension": ".py",
   "mimetype": "text/x-python",
   "name": "python",
   "nbconvert_exporter": "python",
   "pygments_lexer": "ipython3",
   "version": "3.7.7"
  }
 },
 "nbformat": 4,
 "nbformat_minor": 4
}
